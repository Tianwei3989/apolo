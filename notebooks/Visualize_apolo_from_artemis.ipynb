{
 "cells": [
  {
   "cell_type": "markdown",
   "id": "b68948fb",
   "metadata": {},
   "source": [
    "# Visualization"
   ]
  },
  {
   "cell_type": "code",
   "execution_count": null,
   "id": "737baf5f",
   "metadata": {},
   "outputs": [],
   "source": [
    "import cv2, copy, os\n",
    "import pandas as pd\n",
    "from PIL import Image\n",
    "import matplotlib.cm as mpl_color_map\n",
    "import matplotlib.pyplot as plt"
   ]
  },
  {
   "cell_type": "code",
   "execution_count": null,
   "id": "d6f49726",
   "metadata": {},
   "outputs": [],
   "source": [
    "df_apolo = pd.read_json(os.path.join('./data', 'apolo.json'))\n",
    "df_apolo"
   ]
  },
  {
   "cell_type": "code",
   "execution_count": null,
   "id": "555e1ab6",
   "metadata": {
    "scrolled": false
   },
   "outputs": [],
   "source": [
    "# change this index to view more annotations\n",
    "idx = 0\n",
    "\n",
    "paint = df_apolo.iloc[idx]['painting']\n",
    "emotion = df_apolo.iloc[idx]['emotion']\n",
    "\n",
    "mask = np.load(os.path.join('./data/apolo_pixel_map', paint + '_' + emotion + '.npy'),\n",
    "                   allow_pickle=True)\n",
    "\n",
    "img = Image.open(os.path.join('./data/artworks', paint+'.jpg')\n",
    "\n",
    "print(idx, paint, emotion)\n",
    "print(df_apolo.iloc[idx]['utterances'])\n",
    "\n",
    "w, h = img.size\n",
    "heat_map_ = cv2.resize(mask * 255, (w, h), interpolation = cv2.INTER_AREA)\n",
    "\n",
    "# process heatmap\n",
    "color_map = mpl_color_map.get_cmap('YlGn')\n",
    "no_trans_heatmap = color_map(heat_map_)\n",
    "heatmap_ = copy.copy(no_trans_heatmap)\n",
    "heatmap_[:, :, 3] = 0.5\n",
    "heatmap_ = Image.fromarray((heatmap_*255).astype(np.uint8))\n",
    "no_trans_heatmap = Image.fromarray((no_trans_heatmap*255).astype(np.uint8))\n",
    "\n",
    "heatmap_on_image = Image.new(\"RGBA\", img.size)\n",
    "heatmap_on_image = Image.alpha_composite(heatmap_on_image, img.convert('RGBA'))\n",
    "heatmap_on_image = Image.alpha_composite(heatmap_on_image, heatmap_)\n",
    "\n",
    "display(heatmap_on_image)"
   ]
  },
  {
   "cell_type": "code",
   "execution_count": null,
   "id": "a057c539",
   "metadata": {},
   "outputs": [],
   "source": []
  }
 ],
 "metadata": {
  "kernelspec": {
   "display_name": "Python 3",
   "language": "python",
   "name": "python3"
  },
  "language_info": {
   "codemirror_mode": {
    "name": "ipython",
    "version": 3
   },
   "file_extension": ".py",
   "mimetype": "text/x-python",
   "name": "python",
   "nbconvert_exporter": "python",
   "pygments_lexer": "ipython3",
   "version": "3.6.12"
  }
 },
 "nbformat": 4,
 "nbformat_minor": 5
}
